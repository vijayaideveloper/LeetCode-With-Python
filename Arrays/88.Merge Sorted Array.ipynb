{
 "cells": [
  {
   "cell_type": "markdown",
   "id": "125d257f",
   "metadata": {},
   "source": [
    "# 88. Merge Sorted Array"
   ]
  },
  {
   "cell_type": "markdown",
   "id": "10536a5d",
   "metadata": {},
   "source": [
    "You are given two integer arrays ```nums1 and nums2```, sorted in non-decreasing order, and two integers m and n, representing the number of elements in ````nums1 and nums2```` respectively.\n",
    "\n",
    "Merge ````nums1 and nums2```` into a single array sorted in non-decreasing order.\n",
    "\n",
    "The final sorted array should not be returned by the function, but instead be stored inside the array ```nums1```. To accommodate this, ```nums1 ```has a length of m + n, where the first m elements denote the elements that should be merged, and the last n elements are set to 0 and should be ignored. ```nums2``` has a length of n."
   ]
  },
  {
   "cell_type": "markdown",
   "id": "4e957e41",
   "metadata": {},
   "source": [
    "Example 1:\n",
    "\n",
    "Input: ```nums1 = [1,2,3,0,0,0], m = 3, nums2 = [2,5,6], n = 3```\n",
    "Output: ```[1,2,2,3,5,6]```\n",
    "Explanation: The arrays we are merging are [1,2,3] and [2,5,6].\n",
    "The result of the merge is [1,2,2,3,5,6] with the underlined elements coming from nums1.\n",
    "Example 2:\n",
    "\n",
    "Input: ```nums1 = [1], m = 1, nums2 = [], n = 0```\n",
    "Output: ```[1]```\n",
    "Explanation: The arrays we are merging are [1] and [].\n",
    "The result of the merge is [1].\n",
    "Example 3:\n",
    "\n",
    "Input: ```nums1 = [0], m = 0, nums2 = [1], n = 1```\n",
    "Output: ```[1]```\n",
    "Explanation: The arrays we are merging are [] and [1].\n",
    "The result of the merge is [1].\n",
    "Note that because m = 0, there are no elements in nums1. The 0 is only there to ensure the merge result can fit in nums1.\n",
    " \n",
    "\n",
    "Constraints:\n",
    "\n",
    "```\n",
    "nums1.length == m + n\n",
    "nums2.length == n\n",
    "0 <= m, n <= 200\n",
    "1 <= m + n <= 200\n",
    "-109 <= nums1[i], nums2[j] <= 109```"
   ]
  },
  {
   "cell_type": "raw",
   "id": "976a9ee5",
   "metadata": {},
   "source": [
    "class Solution:\n",
    "    def merge(self, nums1: List[int], m: int, nums2: List[int], n: int) -> None:\n",
    "        \"\"\"\n",
    "        Do not return anything, modify nums1 in-place instead.\n",
    "        \"\"\"\n",
    "     "
   ]
  },
  {
   "cell_type": "code",
   "execution_count": 4,
   "id": "dfaa8c37",
   "metadata": {},
   "outputs": [],
   "source": [
    "num1 = [1,2,3,0,0,0]\n",
    "num2 = [2,5,6]\n",
    "m = 3\n",
    "n = 3\n",
    "\n",
    "merge_arr = []\n",
    "for i in range(m):\n",
    "    merge_arr.append(num1[i])\n",
    "for i in range(n):\n",
    "    merge_arr.append(num2[i])"
   ]
  },
  {
   "cell_type": "code",
   "execution_count": 6,
   "id": "291018d1",
   "metadata": {},
   "outputs": [
    {
     "name": "stdout",
     "output_type": "stream",
     "text": [
      "[1, 2, 2, 3, 5, 6]\n"
     ]
    }
   ],
   "source": [
    "print(sorted(merge_arr))"
   ]
  },
  {
   "cell_type": "code",
   "execution_count": 8,
   "id": "fd85dc2f",
   "metadata": {},
   "outputs": [],
   "source": [
    "for i in range(len(merge_arr)):\n",
    "    num1[i] = merge_arr[i]"
   ]
  },
  {
   "cell_type": "code",
   "execution_count": 9,
   "id": "900ce8fc",
   "metadata": {},
   "outputs": [
    {
     "data": {
      "text/plain": [
       "[1, 2, 3, 2, 5, 6]"
      ]
     },
     "execution_count": 9,
     "metadata": {},
     "output_type": "execute_result"
    }
   ],
   "source": [
    "num1"
   ]
  },
  {
   "cell_type": "code",
   "execution_count": 16,
   "id": "bc2f039e",
   "metadata": {},
   "outputs": [
    {
     "name": "stdout",
     "output_type": "stream",
     "text": [
      "[1, 2, 2, 3, 5, 6]\n"
     ]
    }
   ],
   "source": [
    "from typing import List\n",
    "class Solution:\n",
    "    def merge(self, nums1: List[int], m: int, nums2: List[int], n: int) -> None:\n",
    "        merge_arr = []\n",
    "        for i in range(m):\n",
    "            merge_arr.append(num1[i])\n",
    "        for i in range(n):\n",
    "            merge_arr.append(num2[i])\n",
    "        for i in range(len(merge_arr)):\n",
    "            num1[i] = merge_arr[i]\n",
    "        return num1\n",
    "    obj = Solution()\n",
    "num1 = [1,2,3,0,0,0]\n",
    "num2 = [2,5,6]\n",
    "m = 3\n",
    "n = 3\n",
    "\n",
    "result = obj.merge(num1,m,num2,n)\n"
   ]
  }
 ],
 "metadata": {
  "kernelspec": {
   "display_name": "Python (myenv)",
   "language": "python",
   "name": "myenv"
  },
  "language_info": {
   "codemirror_mode": {
    "name": "ipython",
    "version": 3
   },
   "file_extension": ".py",
   "mimetype": "text/x-python",
   "name": "python",
   "nbconvert_exporter": "python",
   "pygments_lexer": "ipython3",
   "version": "3.12.3"
  }
 },
 "nbformat": 4,
 "nbformat_minor": 5
}
